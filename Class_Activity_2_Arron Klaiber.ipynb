{
  "nbformat": 4,
  "nbformat_minor": 0,
  "metadata": {
    "colab": {
      "provenance": [],
      "include_colab_link": true
    },
    "kernelspec": {
      "name": "python3",
      "display_name": "Python 3"
    },
    "language_info": {
      "name": "python"
    }
  },
  "cells": [
    {
      "cell_type": "markdown",
      "metadata": {
        "id": "view-in-github",
        "colab_type": "text"
      },
      "source": [
        "<a href=\"https://colab.research.google.com/github/ArronKlaiber/ArronKlaiber/blob/main/Class_Activity_2_Arron%20Klaiber.ipynb\" target=\"_parent\"><img src=\"https://colab.research.google.com/assets/colab-badge.svg\" alt=\"Open In Colab\"/></a>"
      ]
    },
    {
      "cell_type": "markdown",
      "source": [
        "# If Statements"
      ],
      "metadata": {
        "id": "51TgW_TKcHeC"
      }
    },
    {
      "cell_type": "markdown",
      "source": [
        "##Observe the code segment below, then answer the questions.\n",
        "\n",
        "The following program is intended to tell the number of digits that you enter, or negative if you have a negative number.\n",
        "1.  Observe the code segment below.  Discuss with your group what you predict will output if a the following values are entered for the variable num? -10, 0, 5, 10 and 100.\n",
        "\n",
        "3.  Run the program, and enter -10 when prompted to enter a number.  What is the output of the program?\n",
        "4.  Try the value 0, is it correct?  Try 5, 10 and 100.  For which values do you get a correct response?\n",
        "5.  Observe second if statement.  Is -10 less than 10?  Did \"One Digit Number\" also appear in the output for the value -10?\n",
        "5.  Modify all but the first if statement to be an elif statement and run the program again.  Enter -10 again.  Does the program respond with the value \"One Digit Number\"? Why or why not?\n",
        "6. Test the program again, what response do you get for the values 0, 5, 10, and 100?  Are they logical responses for how the program should perform?"
      ],
      "metadata": {
        "id": "0INOsGaPXo8C"
      }
    },
    {
      "cell_type": "code",
      "source": [
        "# Determines the number of digits\n",
        "\n",
        "num = int(input(\"Enter a number: \"))\n",
        "\n",
        "if num < 0:\n",
        "  print(\"Negative Number\");\n",
        "if num < 10:\n",
        "  print(\"One Digit Number\");\n",
        "if num < 100:\n",
        "  print (\"Two Digit Number\")\n",
        "else:\n",
        "  print(\"Pretty big Number\")\n"
      ],
      "metadata": {
        "id": "V-nDTT0QXQQ4",
        "colab": {
          "base_uri": "https://localhost:8080/"
        },
        "outputId": "9ebaa1a1-5e93-424e-977d-d6ca6b8e1b9a"
      },
      "execution_count": null,
      "outputs": [
        {
          "output_type": "stream",
          "name": "stdout",
          "text": [
            "Enter a number: -3\n",
            "Negative Number\n",
            "One Digit Number\n"
          ]
        }
      ]
    },
    {
      "cell_type": "markdown",
      "source": [
        "#Combining Boolean Expressions"
      ],
      "metadata": {
        "id": "VG03ctV5ob4O"
      }
    },
    {
      "cell_type": "markdown",
      "source": [
        "The following program will determine if a student can get their drivers licence.  Answer the questions with your group.\n",
        "\n",
        "1. Observe the if statement in the code segment below.  How many conditions are listed in the if statement?\n",
        "2. What is the difference between the and operator compareed to the or operator?\n",
        "3. Observe the multipe conditions of the if statement.  Predict what will happen in the following scenarios...\n",
        "  *   Age is 15, test = Y\n",
        "  *   Age is 16, test = y\n",
        "  *   Age is 17, test = n\n",
        "4.  Add additional elif commands to make the program report that the studnets needs to be older if they are underage but have passed the test, or the student needs to pass the test, but they are already of age.\n",
        "5. Test the program to make sure it works.\n",
        "\n",
        "\n",
        "\n",
        "\n",
        "\n"
      ],
      "metadata": {
        "id": "sp6e_79XdQry"
      }
    },
    {
      "cell_type": "code",
      "source": [
        "# Determines if the student can get their drivers licence\n",
        "age = int(input(\"Enter your age: \"))\n",
        "test = input(\"Did you pass the drivers test? (y/n)\")\n",
        "\n",
        "if age >= 16 and (test == \"y\" or test == \"Y\"):\n",
        "  print(\"You may drive\")\n",
        "else:\n",
        "  print(\"You must pass the drivers and be at least 16 to drive\")\n"
      ],
      "metadata": {
        "id": "EhA91BDtoqVZ",
        "colab": {
          "base_uri": "https://localhost:8080/"
        },
        "outputId": "0d4d1449-4ac5-49b3-c5c6-9f2887eb75c2"
      },
      "execution_count": null,
      "outputs": [
        {
          "output_type": "stream",
          "name": "stdout",
          "text": [
            "Enter your age: 44\n",
            "Did you pass the drivers test? (y/n)y\n",
            "You may drive\n"
          ]
        }
      ]
    },
    {
      "cell_type": "markdown",
      "source": [
        "# Accumulators"
      ],
      "metadata": {
        "id": "acbSjd6Wcm3A"
      }
    },
    {
      "cell_type": "markdown",
      "source": [
        "The following code segment is an allowance calculator for kids to get their jobs done.  They recieve .50 cents per job. 1 dollar if they clearn their room and 2 dollars if they get their homework completed.\n",
        "\n",
        "1.  Observe the variable amount.  What is the starting value of the variable amount if the user enters 4 jobs?\n",
        "2.  What does the variable become if they cleaned their room?\n",
        "3.  How about if the child gets their homework done?\n",
        "4.  Run the program to makes sure it counts correctly.\n",
        "5. Modify the program according to the following criteria... if they don't get their homework done, they owe 2 dollars and if they don't get their room clean, they owe 1 dollar.\n"
      ],
      "metadata": {
        "id": "W8dxDSq3pYch"
      }
    },
    {
      "cell_type": "code",
      "source": [
        "jobs = int(input(\"How many jobs did you do? \"))\n",
        "amount = jobs * .50\n",
        "room = input(\"Did you clean your room? y/n\")\n",
        "if room == 'y' or room == 'Y':\n",
        "  amount += 1\n",
        "hw = input(\"Is your homework done? y/n\")\n",
        "if hw == 'y' or hw == 'Y':\n",
        "  amount += 2\n",
        "\n",
        "print(\"You have earned\", amount)\n"
      ],
      "metadata": {
        "id": "YCeLTJVApSmK"
      },
      "execution_count": null,
      "outputs": []
    },
    {
      "cell_type": "markdown",
      "source": [
        "Create your own code below!\n",
        "\n",
        "Use something you just learned to write a small unique program that we will share as a class."
      ],
      "metadata": {
        "id": "XN48bZLnLdIv"
      }
    },
    {
      "cell_type": "code",
      "source": [],
      "metadata": {
        "id": "6eWbbxEZLeOu"
      },
      "execution_count": null,
      "outputs": []
    }
  ]
}